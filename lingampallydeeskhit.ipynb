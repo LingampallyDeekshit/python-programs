{
  "nbformat": 4,
  "nbformat_minor": 0,
  "metadata": {
    "colab": {
      "provenance": []
    },
    "kernelspec": {
      "name": "python3",
      "display_name": "Python 3"
    },
    "language_info": {
      "name": "python"
    }
  },
  "cells": [
    {
      "cell_type": "code",
      "execution_count": null,
      "metadata": {
        "colab": {
          "base_uri": "https://localhost:8080/",
          "height": 36
        },
        "id": "4-qYzpuZSQ41",
        "outputId": "db67ce39-dc09-408b-ab41-1cef56e8a7f2"
      },
      "outputs": [
        {
          "output_type": "execute_result",
          "data": {
            "text/plain": [
              "'mtn  gh'"
            ],
            "application/vnd.google.colaboratory.intrinsic+json": {
              "type": "string"
            }
          },
          "metadata": {},
          "execution_count": 2
        }
      ],
      "source": [
        "name = \"maganti venkata naga sai ganesh raju\"\n",
        "name [0:31:5]"
      ]
    },
    {
      "cell_type": "code",
      "source": [
        "text=\"hellon python\"\n",
        "print(\"python\"in text)\n",
        "print(\"java\"not in text)"
      ],
      "metadata": {
        "id": "MQkg8dirSTUh",
        "colab": {
          "base_uri": "https://localhost:8080/"
        },
        "outputId": "f757237f-21d7-46d0-908c-9598855b9d27"
      },
      "execution_count": 3,
      "outputs": [
        {
          "output_type": "stream",
          "name": "stdout",
          "text": [
            "True\n",
            "True\n"
          ]
        }
      ]
    },
    {
      "cell_type": "code",
      "source": [
        "x=set([1,2,3,3,2])\n",
        "print(len(x))"
      ],
      "metadata": {
        "colab": {
          "base_uri": "https://localhost:8080/"
        },
        "id": "MxdCQ1v4Wq-z",
        "outputId": "6b1110e4-24e3-4264-d935-5ca0d1ec7399"
      },
      "execution_count": 4,
      "outputs": [
        {
          "output_type": "stream",
          "name": "stdout",
          "text": [
            "3\n"
          ]
        }
      ]
    },
    {
      "cell_type": "code",
      "source": [
        "list1 = [10, 2, 6, 3, 96]\n",
        "list2 = [2, 88, 78]\n",
        "list1.extend(list2)\n",
        "print(list1)"
      ],
      "metadata": {
        "colab": {
          "base_uri": "https://localhost:8080/"
        },
        "id": "8aok4Ei2a-oZ",
        "outputId": "597cf3cb-756f-489e-ef70-ff33405a0566"
      },
      "execution_count": 8,
      "outputs": [
        {
          "output_type": "stream",
          "name": "stdout",
          "text": [
            "[10, 2, 6, 3, 96, 2, 88, 78]\n"
          ]
        }
      ]
    },
    {
      "cell_type": "code",
      "source": [
        "l = [\"harry\", 8.50, \"true\"]\n",
        "for i in l:\n",
        "  print(i)\n",
        "else:\n",
        "  print(\"Done\")"
      ],
      "metadata": {
        "colab": {
          "base_uri": "https://localhost:8080/"
        },
        "id": "Cz4ZEzjYcZll",
        "outputId": "e0ce63bf-1e70-49f0-9995-6e485d8a18f3"
      },
      "execution_count": 13,
      "outputs": [
        {
          "output_type": "stream",
          "name": "stdout",
          "text": [
            "harry\n",
            "8.5\n",
            "true\n",
            "Done\n"
          ]
        }
      ]
    },
    {
      "cell_type": "code",
      "source": [
        "numbers = [22, 56, 565]\n",
        "for i in numbers:\n",
        "  print(i)"
      ],
      "metadata": {
        "colab": {
          "base_uri": "https://localhost:8080/"
        },
        "id": "iJsDTSU2W9Ko",
        "outputId": "48392d85-c664-4c69-81cb-cd357fc481eb"
      },
      "execution_count": 12,
      "outputs": [
        {
          "output_type": "stream",
          "name": "stdout",
          "text": [
            "22\n",
            "56\n",
            "565\n"
          ]
        }
      ]
    },
    {
      "cell_type": "code",
      "source": [
        "count = 10\n",
        "\n",
        "while count > 20:\n",
        "  print(count)\n",
        "\n",
        "count -= 1\n",
        "\n",
        "\n",
        "\n"
      ],
      "metadata": {
        "id": "zI_YGdhff6sx"
      },
      "execution_count": 30,
      "outputs": []
    },
    {
      "cell_type": "code",
      "source": [
        "for x in 'watermelon':\n",
        "  print(x, end='')\n",
        "\n"
      ],
      "metadata": {
        "colab": {
          "base_uri": "https://localhost:8080/"
        },
        "id": "hcG8UzO8hzh5",
        "outputId": "3127c533-5dd0-4349-bc3d-104a108bad90"
      },
      "execution_count": 35,
      "outputs": [
        {
          "output_type": "stream",
          "name": "stdout",
          "text": [
            "watermelon"
          ]
        }
      ]
    },
    {
      "cell_type": "code",
      "source": [
        "for i in range(0,10,2):\n",
        "  print(i)\n",
        "\n",
        "print(\"Done!\")"
      ],
      "metadata": {
        "colab": {
          "base_uri": "https://localhost:8080/"
        },
        "id": "pynS3pG7jOsQ",
        "outputId": "24ab64a1-3156-4110-ffd1-3d59af12fbe4"
      },
      "execution_count": 49,
      "outputs": [
        {
          "output_type": "stream",
          "name": "stdout",
          "text": [
            "0\n",
            "2\n",
            "4\n",
            "6\n",
            "8\n",
            "Done!\n"
          ]
        }
      ]
    },
    {
      "cell_type": "code",
      "source": [
        "for i in range(5):\n",
        "  print(i)"
      ],
      "metadata": {
        "colab": {
          "base_uri": "https://localhost:8080/"
        },
        "id": "PzsPqbyemR8A",
        "outputId": "3817fbd9-943c-4e35-8fa2-7f34d6160cd9"
      },
      "execution_count": 51,
      "outputs": [
        {
          "output_type": "stream",
          "name": "stdout",
          "text": [
            "0\n",
            "1\n",
            "2\n",
            "3\n",
            "4\n"
          ]
        }
      ]
    },
    {
      "cell_type": "code",
      "source": [
        "for i in range(3,10):\n",
        "  print(i)"
      ],
      "metadata": {
        "colab": {
          "base_uri": "https://localhost:8080/"
        },
        "id": "zbimLjv_mn02",
        "outputId": "18c61a22-cab3-495b-c5a6-ad2ba7881c7e"
      },
      "execution_count": 53,
      "outputs": [
        {
          "output_type": "stream",
          "name": "stdout",
          "text": [
            "3\n",
            "4\n",
            "5\n",
            "6\n",
            "7\n",
            "8\n",
            "9\n"
          ]
        }
      ]
    },
    {
      "cell_type": "code",
      "source": [
        "myrange = range(10)\n",
        "\n",
        "print(myrange)\n",
        "print(list(myrange))"
      ],
      "metadata": {
        "colab": {
          "base_uri": "https://localhost:8080/"
        },
        "id": "nMqMM3BenYJM",
        "outputId": "b3a89803-fe1d-4167-feb0-77bd31cf88da"
      },
      "execution_count": 58,
      "outputs": [
        {
          "output_type": "stream",
          "name": "stdout",
          "text": [
            "range(0, 10)\n",
            "[0, 1, 2, 3, 4, 5, 6, 7, 8, 9]\n"
          ]
        }
      ]
    },
    {
      "cell_type": "code",
      "source": [
        "rangers = range(2,20,3)\n",
        "\n",
        "for i in rangers:\n",
        "  print(i)"
      ],
      "metadata": {
        "colab": {
          "base_uri": "https://localhost:8080/"
        },
        "id": "nk1kJ3P7ojcb",
        "outputId": "726e9026-a9d2-45c8-fa37-c4896a72b750"
      },
      "execution_count": 62,
      "outputs": [
        {
          "output_type": "stream",
          "name": "stdout",
          "text": [
            "2\n",
            "5\n",
            "8\n",
            "11\n",
            "14\n",
            "17\n"
          ]
        }
      ]
    },
    {
      "cell_type": "code",
      "source": [
        "s = \"KRCET\"\n",
        "for i in s:\n",
        "  print(i,end='')"
      ],
      "metadata": {
        "colab": {
          "base_uri": "https://localhost:8080/"
        },
        "id": "tCMgGYslpWjv",
        "outputId": "545fa9f8-de5d-4125-fff4-c0aa3dba1490"
      },
      "execution_count": 64,
      "outputs": [
        {
          "output_type": "stream",
          "name": "stdout",
          "text": [
            "KRCET"
          ]
        }
      ]
    },
    {
      "cell_type": "code",
      "source": [
        "list_1 = [11, 55, 69, 23, 45]\n",
        "\n",
        "for i in range(1,len(list_1),2):\n",
        "  print(list_1[i])"
      ],
      "metadata": {
        "colab": {
          "base_uri": "https://localhost:8080/"
        },
        "id": "R2d3tc8dp7yM",
        "outputId": "e1f3bf63-cc4e-45df-d0b0-a30a02eee95f"
      },
      "execution_count": 69,
      "outputs": [
        {
          "output_type": "stream",
          "name": "stdout",
          "text": [
            "55\n",
            "23\n"
          ]
        }
      ]
    },
    {
      "cell_type": "code",
      "source": [
        "step = int(input(\"Enter step value:\"))\n",
        "\n",
        "list_1 = [1,2,6,9,4,3,24]\n",
        "\n",
        "for i in range(1,len(list_1),step):\n",
        "  print(list_1[i])"
      ],
      "metadata": {
        "colab": {
          "base_uri": "https://localhost:8080/"
        },
        "id": "JeSlmOh7qitb",
        "outputId": "90595b09-1bd7-4e9d-ec0d-395aa1230d92"
      },
      "execution_count": 76,
      "outputs": [
        {
          "output_type": "stream",
          "name": "stdout",
          "text": [
            "Enter step value:6\n",
            "2\n"
          ]
        }
      ]
    },
    {
      "cell_type": "code",
      "source": [
        "\n"
      ],
      "metadata": {
        "id": "a5pjXLqlr1M0"
      },
      "execution_count": null,
      "outputs": []
    }
  ]
}