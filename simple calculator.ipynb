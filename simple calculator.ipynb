{
  "cells": [
    {
      "cell_type": "code",
      "source": [
        "def add(x , y):\n",
        "  return x + y\n",
        "def subtract(x , y):\n",
        "  return x - y\n",
        "def multiply(x , y):\n",
        "  return x * y\n",
        "def division(x , y):\n",
        "  if y != 0:\n",
        "    return x / y\n",
        "  else:\n",
        "    return \"error: number can not divided by zero\"\n",
        "def calculator():\n",
        "  print(\"simple calculator\")\n",
        "  print(\"Choose operation\")\n",
        "  print(\"1.add\")\n",
        "  print(\"2.subtraction\")\n",
        "  print(\"3.multiplication\")\n",
        "  print(\"4.division\")\n",
        "\n",
        "  while True:\n",
        "    choice = input(\"enter your choice (1/2/3/4)\")\n",
        "    if choice in ('1', '2', '3','4'):\n",
        "      num1 = float(input(\"enter first number\"))\n",
        "      num2 = float(input(\"enter second number\"))\n",
        "\n",
        "    if choice == '1':\n",
        "      print(f\"The result is:{add(num1,num2)}\")\n",
        "    elif choice == '2':\n",
        "      print(f\"the result is:{subtract(num1,num2)}\")\n",
        "    elif choice == '3':\n",
        "      print(f\"the result is:{multiplication(num1,num2)}\")\n",
        "    elif choice == '4':\n",
        "      print(f\"The result is:{division(num1,num2)}\")\n",
        "\n",
        "    next_calculator = input(\"Do you want to perform another calculation?(yes/no):\")\n",
        "    if next_calculator.lower() != 'yes':\n",
        "       break\n",
        "    else:\n",
        "      print(\"invalid input\")\n",
        "\n",
        "\n",
        "calculator()\n",
        "\n",
        "\n",
        "\n",
        "\n",
        "\n",
        "\n",
        "\n",
        "\n",
        "\n",
        "\n",
        ""
      ],
      "metadata": {
        "colab": {
          "base_uri": "https://localhost:8080/"
        },
        "id": "YfabqNCsRMU5",
        "outputId": "dec1e0c6-7991-4872-ce5e-10bef47fc690"
      },
      "execution_count": 7,
      "outputs": [
        {
          "name": "stdout",
          "output_type": "stream",
          "text": [
            "simple calculator\n",
            "Choose operation\n",
            "1.add\n",
            "2.subtraction\n",
            "3.multiplication\n",
            "4.division\n",
            "enter your choice (1/2/3/4)2\n",
            "enter first number5\n",
            "enter second number1\n",
            "the result is:4.0\n",
            "Do you want to perform another calculation?(yes/no):no\n"
          ]
        }
      ]
    },
    {
      "cell_type": "markdown",
      "source": [
        "simple calculator"
      ],
      "metadata": {
        "id": "6BOR5t89SXyu"
      }
    }
  ],
  "metadata": {
    "colab": {
      "provenance": []
    },
    "kernelspec": {
      "display_name": "Python 3",
      "name": "python3"
    },
    "language_info": {
      "name": "python"
    }
  },
  "nbformat": 4,
  "nbformat_minor": 0
}